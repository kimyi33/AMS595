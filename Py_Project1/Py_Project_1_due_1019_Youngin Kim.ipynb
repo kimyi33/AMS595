{
 "cells": [
  {
   "cell_type": "markdown",
   "metadata": {
    "id": "xq__bChjD04e"
   },
   "source": [
    "# Python Assignment 1"
   ]
  },
  {
   "cell_type": "markdown",
   "metadata": {
    "id": "y7j2V0UDMYLG"
   },
   "source": [
    "⏱⏱⏱**Due: 10/19/2025 11:59:59 PM** ⏱⏱⏱\n",
    "\n",
    "Submit this notebook file and upload it to your git repo. Include a link to your git repo while submitting this file to Brightspace.\n",
    "\n",
    "You are not allowed to use chatgpt or any LLM in this assignment.\n",
    "Cooperation is allowed and encouraged; however, you must write up and submit your own work. If you cooperate with others, you must list their names here."
   ]
  },
  {
   "cell_type": "markdown",
   "metadata": {
    "id": "SUS30Ew9D04n"
   },
   "source": [
    "Total points: 100 (equivalent to 20 points after conversion)"
   ]
  },
  {
   "cell_type": "markdown",
   "metadata": {
    "id": "b_bgT3b2GYTB"
   },
   "source": [
    "## 0. Data Types, Structures, Indexing, and Slicing"
   ]
  },
  {
   "cell_type": "markdown",
   "metadata": {
    "id": "6yI1Jt57IwV2"
   },
   "source": [
    "Read the lecutre note as well as [this page](https://www.geeksforgeeks.org/mutable-vs-immutable-objects-in-python/) and [this page](https://www.geeksforgeeks.org/difference-between-shallow-and-deep-copy-of-a-class/). Complete the following questions.\n",
    "\n",
    "(5 points) Give some examples (at least 2) of mutable objects in Python.\n",
    "\n",
    "***Answer:***\n",
    "\n",
    "1) A list [5, 9, 5]<br>\n",
    "2) A dictionary {\"name\": \"Youngin\", \"Country\": \"South Korea\"}\n",
    "3) A set {\"dog\", \"cat\", \"rabbit\"}     \n",
    "\n",
    "---\n",
    "\n",
    "(5 points) Give some examples (at least 2) of immutable objects in Python.\n",
    "\n",
    "***Answer:***\n",
    "\n",
    "1) A tuple (1, 0, 2, 4)\n",
    "2) A string \"I have an apple\"\n",
    "3) An integer 3\n",
    "\n",
    "---\n",
    "\n",
    "(10 points) State the differences between assignment, shallow copy, and deep copy. Any reasonable answer will get full credit.\n",
    "\n",
    "***Answer:***\n",
    "\n",
    "Whenever an object is instantiated, it is assigned a unique object id.\n",
    "1) Shallow copy stores the references of objects to the original memory address, whereas deep copy stores copies of the object's value.\n",
    "2) Shappow copy reflects changes made to the new/copied object in the original object, whereas deep copy doesn't.\n",
    "3) Shallow copy stores the copy of the original object and points the references to the object, whereas deep copy stores the copy of the original object and recursively copies the objects as well.\n",
    "4) Shallow copy is faster than deep copy.\n",
    "\n",
    "---\n"
   ]
  },
  {
   "cell_type": "markdown",
   "metadata": {
    "id": "OA8DxcrrGqZD"
   },
   "source": [
    "(10 points) Using string methods find() and rfind(), find the index of the first digit (i.e. 0) and the index of the last digit (5) in the string below. Then, using string slicing, extract the number (i.e. 0.595595) from this string and convert the extracted value to a floating point number. Print out this float to the console."
   ]
  },
  {
   "cell_type": "code",
   "execution_count": 1,
   "metadata": {
    "id": "AUuFXXWqG4D3"
   },
   "outputs": [
    {
     "name": "stdout",
     "output_type": "stream",
     "text": [
      "The index of the first digit is: 43\n",
      "The index of the last digit is: 50\n",
      "\n",
      "The number extracted is: 0.595595\n",
      "The typed of the extracted number is: <class 'float'>\n"
     ]
    }
   ],
   "source": [
    "text = \"F-DGFDDSFGFD-CFDSHdstgfdfe: tfsd  aaa bdsf 0.595595 fdsgfdbc\";\n",
    "\n",
    "# Finding the index of the first and the last digit in the text\n",
    "idx_first_digit = text.find('0')\n",
    "idx_last_digit = text.rfind('5')\n",
    "\n",
    "print(f\"The index of the first digit is: {idx_first_digit}\")\n",
    "print(f\"The index of the last digit is: {idx_last_digit}\\n\")\n",
    "\n",
    "# Slicing the text and extracting the number 0.595595\n",
    "sliced_text = text.split(' ')\n",
    "\n",
    "# number: the number to be located\n",
    "number = None\n",
    "\n",
    "# For every slice of word in the text,\n",
    "# Convert it into float type if the word is a number.\n",
    "for word in sliced_text:\n",
    "    try:\n",
    "        number = float(word)    # Converted the number into a floating point number\n",
    "        break\n",
    "    except ValueError:\n",
    "        continue\n",
    "\n",
    "# Print out\n",
    "print(f\"The number extracted is: {number}\")\n",
    "print(f\"The typed of the extracted number is: {type(number)}\")\n",
    "\n"
   ]
  },
  {
   "cell_type": "markdown",
   "metadata": {
    "id": "cnCljYgpD04p"
   },
   "source": [
    "## 1. Conditional Statements\n",
    "\n",
    "(10 points)\n",
    "Translate the following MATLAB code into Python using `if-elif-else`.\n",
    "```\n",
    "n = input('Enter a number: ');\n",
    "\n",
    "switch n\n",
    "    case -1\n",
    "        disp('negative one')\n",
    "    case 0\n",
    "        disp('zero')\n",
    "    case 1\n",
    "        disp('positive one')\n",
    "    otherwise\n",
    "        disp('other value')\n",
    "end\n",
    "```"
   ]
  },
  {
   "cell_type": "code",
   "execution_count": 2,
   "metadata": {},
   "outputs": [
    {
     "name": "stdin",
     "output_type": "stream",
     "text": [
      "Enter a number:  0\n"
     ]
    },
    {
     "name": "stdout",
     "output_type": "stream",
     "text": [
      "zero\n"
     ]
    }
   ],
   "source": [
    "num = float(input(\"Enter a number: \"))\n",
    "if num == -1:\n",
    "    print(\"negative one\")\n",
    "elif num == 0:\n",
    "    print(\"zero\")\n",
    "elif num == 1:\n",
    "    print(\"positive one\")\n",
    "else:\n",
    "    print(\"other value\")"
   ]
  },
  {
   "cell_type": "markdown",
   "metadata": {
    "id": "sW9XiUPpD04s"
   },
   "source": [
    "## 2. While Loops\n",
    "\n",
    "(10 points) Write a Python program that calculates the factorial of a given number (you can assume an positive integer) using a while loop. Display the result to the console."
   ]
  },
  {
   "cell_type": "code",
   "execution_count": 8,
   "metadata": {
    "colab": {
     "base_uri": "https://localhost:8080/"
    },
    "id": "CRCERx8uD04t",
    "outputId": "1870b9d1-fe04-4ae7-e5ec-08ce640ce72e"
   },
   "outputs": [
    {
     "name": "stdin",
     "output_type": "stream",
     "text": [
      "Enter a positive integer:  13\n"
     ]
    },
    {
     "name": "stdout",
     "output_type": "stream",
     "text": [
      "Factorial is: 6227020800\n"
     ]
    }
   ],
   "source": [
    "\n",
    "# A positive integer n is given.\n",
    "n = int(input(\"Enter a positive integer: \"))\n",
    "\n",
    "# 1 is the multiplicative identity\n",
    "factorial = 1\n",
    "\n",
    "# Iterate multiplication until n becomes 0\n",
    "while n > 0:\n",
    "    factorial = factorial * n\n",
    "    n -= 1    # Decrement of n\n",
    "\n",
    "print(f\"Factorial is: {factorial}\")\n",
    "\n",
    "# test cases\n",
    "# n = 17, Output: 355687428096000\n",
    "# n = 13, Output: 6227020800"
   ]
  },
  {
   "cell_type": "markdown",
   "metadata": {
    "id": "ZQ5SVMq6D04w"
   },
   "source": [
    "## 3. Functions\n",
    "\n",
    "(10 points) Write a function that determines if a number is prime."
   ]
  },
  {
   "cell_type": "code",
   "execution_count": 9,
   "metadata": {
    "colab": {
     "base_uri": "https://localhost:8080/"
    },
    "id": "6rGP5G3_D04x",
    "outputId": "00df2d17-b697-4146-968f-be4fa7cc3ba3"
   },
   "outputs": [
    {
     "name": "stdout",
     "output_type": "stream",
     "text": [
      "True\n",
      "False\n",
      "True\n"
     ]
    }
   ],
   "source": [
    "def is_prime(n):\n",
    "    # If n is less than 2, it is not prime\n",
    "    if n < 2:\n",
    "        return False    \n",
    "    # It is enough to check the dividers between 2 and sqrt(n).\n",
    "    # This is because once the number n has a divider between [sqrt(n), n],\n",
    "    # it also has a divider between [2, sqrt(n)].\n",
    "    # We use for loop.\n",
    "    for d in range(2, int(n**.5) + 1):\n",
    "        if n % d == 0:\n",
    "            return False\n",
    "    return True\n",
    "\n",
    "\n",
    "# test cases\n",
    "print(is_prime(2))      # Output: True\n",
    "print(is_prime(10))     # Output: False\n",
    "print(is_prime(17))     # Output: True"
   ]
  },
  {
   "cell_type": "markdown",
   "metadata": {
    "id": "Z6qg-fpQD04u"
   },
   "source": [
    "## 4. List Comprehension\n",
    "\n",
    "(10 points) Write a Python function called `prime_factors` that takes a relatively small integer as input and returns a list of its distinct prime factors. The function should use list comprehension to generate the list of distinct prime factors. You may use the function is_prime() defined in Q3.\n"
   ]
  },
  {
   "cell_type": "code",
   "execution_count": 10,
   "metadata": {
    "colab": {
     "base_uri": "https://localhost:8080/"
    },
    "id": "2hSCjYlOD04v",
    "outputId": "1024d2e2-7d24-4e65-9529-e5a82d2a3211"
   },
   "outputs": [
    {
     "name": "stdout",
     "output_type": "stream",
     "text": [
      "[2, 3, 5]\n",
      "[2, 7]\n",
      "[2, 3, 11]\n",
      "[2, 29]\n"
     ]
    }
   ],
   "source": [
    "def prime_factors(n):\n",
    "    # For the numbers between 2 and n,\n",
    "    # check if it divides n AND is prime.\n",
    "    prime_factors = [i for i in range(2, n+1) if n % i == 0 and is_prime(i)]\n",
    "    return prime_factors\n",
    "\n",
    "# test cases\n",
    "print(prime_factors(30))  # Output: [2, 3, 5]\n",
    "print(prime_factors(56))  # Output: [2, 7]\n",
    "print(prime_factors(198))  # Output: [2, 3, 11]\n",
    "print(prime_factors(464))  # Output: [2, 29]"
   ]
  },
  {
   "cell_type": "markdown",
   "metadata": {
    "id": "dw4kZZCiD040"
   },
   "source": [
    "## 5. Recursive Functions\n",
    "(25 points) Write a function that uses recursion to generate the $n$th row of the Pascal's triangle.\n",
    "```\n",
    "              1\n",
    "           1     1\n",
    "        1     2     1\n",
    "      1    3     3     1\n",
    "   1    4     6     4    1\n",
    "1     5    10    10    5    1\n",
    "...\n",
    "...\n",
    "...\n",
    "```"
   ]
  },
  {
   "cell_type": "code",
   "execution_count": 12,
   "metadata": {},
   "outputs": [
    {
     "name": "stdout",
     "output_type": "stream",
     "text": [
      "[1, 5, 10, 10, 5, 1]\n"
     ]
    }
   ],
   "source": [
    "def pascal(n):\n",
    "    # When n becomes 1, we stop with [1]\n",
    "    if n == 1:\n",
    "        return [1]\n",
    "        \n",
    "    # Use recursion\n",
    "    prev_row = pascal(n-1)\n",
    "\n",
    "    # Pad the previous row with 0 to simplify the calculation.\n",
    "    padded_prev_row = [0] + prev_row + [0]\n",
    "\n",
    "    # Generate n-th row\n",
    "    n_row = [padded_prev_row[i] + padded_prev_row[i+1] for i in range(len(padded_prev_row)-1)]\n",
    "    \n",
    "    return n_row\n",
    "\n",
    "# test case\n",
    "print(pascal(6))  # output [1, 5, 10, 10, 5, 1]"
   ]
  },
  {
   "cell_type": "markdown",
   "metadata": {
    "id": "eZytgm0qD041"
   },
   "source": [
    "Rewrite the above function using only `while` or `for` loops instead of recursion."
   ]
  },
  {
   "cell_type": "code",
   "execution_count": 7,
   "metadata": {
    "colab": {
     "base_uri": "https://localhost:8080/"
    },
    "id": "UZ8f-akaD041",
    "outputId": "68ec5672-a40f-493f-e725-68b7471e76bc"
   },
   "outputs": [
    {
     "name": "stdout",
     "output_type": "stream",
     "text": [
      "[1, 5, 10, 10, 5, 1]\n"
     ]
    }
   ],
   "source": [
    "def pascal_by_loops(n):\n",
    "    # The first row starts with [1]\n",
    "    n_row = [1]\n",
    "\n",
    "    # Use for-loop \n",
    "    for iter in range(n-1):\n",
    "        # Padding with 0 to make calculation simple.\n",
    "        n_row = [0] + n_row + [0]   \n",
    "\n",
    "        # Generate n-th row\n",
    "        n_row = [n_row[i] + n_row[i+1] for i in range(len(n_row)-1)]\n",
    "    return n_row\n",
    "    \n",
    "# test case\n",
    "print(pascal_by_loops(6))"
   ]
  },
  {
   "attachments": {},
   "cell_type": "markdown",
   "metadata": {
    "id": "HvHD6QHzVo9I"
   },
   "source": [
    "\n",
    "\n",
    "---\n",
    "\n",
    "\n",
    "（5 points) good coding practice and properly submitting your work to GitHub.\n",
    "\n",
    "The project codes are uploaded to my GitHub repository: https://github.com/kimyi33/AMS595."
   ]
  }
 ],
 "metadata": {
  "anaconda-cloud": {},
  "colab": {
   "provenance": []
  },
  "kernelspec": {
   "display_name": "Python 3 (ipykernel)",
   "language": "python",
   "name": "python3"
  },
  "language_info": {
   "codemirror_mode": {
    "name": "ipython",
    "version": 3
   },
   "file_extension": ".py",
   "mimetype": "text/x-python",
   "name": "python",
   "nbconvert_exporter": "python",
   "pygments_lexer": "ipython3",
   "version": "3.8.20"
  }
 },
 "nbformat": 4,
 "nbformat_minor": 4
}
